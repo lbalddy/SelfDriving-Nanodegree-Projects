{
 "cells": [
  {
   "cell_type": "code",
   "execution_count": null,
   "metadata": {
    "collapsed": true
   },
   "outputs": [],
   "source": []
  },
  {
   "cell_type": "markdown",
   "metadata": {
    "deletable": true,
    "editable": true
   },
   "source": [
    "Dataset has been augmentated.\n",
    "\n",
    "- Random rotation\n",
    "- Random translation\n",
    "- Random deformation\n",
    "\n",
    "This modifications of the image has been used in a way that the meaning of the signal can't change with the deformation (i.e. we won't flip 180º a turn left/right signal )\n",
    "\n",
    "Only Y channel has been taken in account to train the NN. And an histogram adaptative equalization has been performed to help with shapes. \n"
   ]
  },
  {
   "cell_type": "code",
   "execution_count": null,
   "metadata": {
    "collapsed": true,
    "deletable": true,
    "editable": true
   },
   "outputs": [],
   "source": []
  },
  {
   "cell_type": "code",
   "execution_count": 1,
   "metadata": {
    "collapsed": true,
    "deletable": true,
    "editable": true
   },
   "outputs": [],
   "source": [
    "# Load pickled data\n",
    "import pickle\n",
    "import numpy as np\n",
    "import matplotlib as mpl\n",
    "import cv2 \n",
    "from   skimage  import exposure \n",
    "#TODO: Fill this in based on where you saved the training and testing data\n",
    "from IPython.display import clear_output\n",
    "\n",
    "training_file = 'train.p'\n",
    "validation_file='valid.p'\n",
    "testing_file = 'test.p'\n",
    "\n",
    "with open(training_file, mode='rb') as f:\n",
    "    train = pickle.load(f)\n",
    "with open(validation_file, mode='rb') as f:\n",
    "    valid = pickle.load(f)\n",
    "with open(testing_file, mode='rb') as f:\n",
    "    test = pickle.load(f)\n",
    "    \n",
    "X_train, y_train = train['features'], train['labels']\n",
    "X_valid, y_valid = valid['features'], valid['labels']\n",
    "X_test, y_test = test['features'], test['labels']\n",
    "\n",
    "def obtain_Y(img_in):\n",
    "    out = img_in[:,:,:,0] * 0.299 + img_in[:,:,:,1] * 0.587 + img_in[:,:,:,2] * 0.114\n",
    "    out = (out / 255.).astype(np.float32)\n",
    "    \n",
    "    for nim in range(img_in.shape[0]):\n",
    "        clear_output()\n",
    "        print((nim*100)/img_in.shape[0])\n",
    "        out[nim,] =  exposure.equalize_hist(out[nim,])\n",
    "        out[nim]  =  exposure.equalize_adapthist(out[nim])\n",
    "        \n",
    "    #out = (out - 128.0)/255.0\n",
    "    #out = np.expand_dims(out, axis=3) \n",
    "    return out\n",
    "\n"
   ]
  },
  {
   "cell_type": "code",
   "execution_count": null,
   "metadata": {
    "collapsed": true
   },
   "outputs": [],
   "source": [
    "def ampliate_feed_data(img_in,y_in):\n",
    "    \n",
    "    #img_out = img_in\n",
    "    #y_out   = y_in\n",
    "    \n",
    "    img_aux_1 = np.zeros(np.shape(img_in))\n",
    "    img_aux_2 = np.zeros(np.shape(img_in))\n",
    "    img_aux_3 = np.zeros(np.shape(img_in))\n",
    "    y_aux_1   = np.zeros(img_in.shape[0])\n",
    "    y_aux_2   = np.zeros(img_in.shape[0])\n",
    "    y_aux_3   = np.zeros(img_in.shape[0])\n",
    "    \n",
    "    for nim in range(img_in.shape[0]):\n",
    "        print((nim*100)/img_in.shape[0])\n",
    "        ( img_aux_1[nim,:,:] , y_aux_1[nim] ) = random_translation(img_in[nim, ], y_in[nim])\n",
    "        ( img_aux_2[nim,:,:] , y_aux_2[nim] ) = random_rotation   (img_in[nim, ], y_in[nim])\n",
    "        ( img_aux_3[nim,:,:] , y_aux_3[nim] ) = image_blurring    (img_in[nim, ], y_in[nim])\n",
    "   # ( img_aux[3,:,:] , y_aux[3] ) = random_deformation(img_in[nim, ], y_in[nim])\n",
    "        clear_output() \n",
    "   \n",
    "    img_out = np.append(img_in,img_aux_1,axis=0)\n",
    "    y_out   = np.append(y_in,y_aux_1,axis=0)\n",
    "        \n",
    "    img_out = np.append(img_out,img_aux_2,axis=0)\n",
    "    y_out   = np.append(y_out,y_aux_2,axis=0)\n",
    "      \n",
    "    img_out = np.append(img_out,img_aux_3,axis=0)\n",
    "    y_out   = np.append(y_out,y_aux_3,axis=0)\n",
    "        \n",
    "    return img_out, y_out\n",
    "\n",
    "def random_translation(img_in,y_in):\n",
    "\n",
    "    y_out = y_in\n",
    "    aux = np.random.randint(-2,high = 3, size=2)\n",
    "    translate = np.float32([[1,0,aux[0]],[0,1,aux[1]]])\n",
    "    rows,cols = img_in.shape\n",
    "    img_out = cv2.warpAffine(img_in,translate,(cols,rows))  \n",
    "    \n",
    "    return img_out, y_out\n",
    "\n",
    "def random_rotation(img_in, y_in):\n",
    "    y_out = y_in\n",
    "    rows,cols = img_in.shape\n",
    "    rotation_angle = np.random.randint(-15,high = 16, size = 1) \n",
    "    \n",
    "    rotate = cv2.getRotationMatrix2D((cols/2,rows/2),rotation_angle,1)\n",
    "    \n",
    "    img_out = cv2.warpAffine(img_in,rotate,(cols,rows))\n",
    "    \n",
    "    return img_out, y_out\n",
    "    \n",
    "def image_blurring(img_in, y_in):\n",
    "    \n",
    "    y_out = y_in\n",
    "    img_out = cv2.blur(img_in,(5,5))\n",
    "    \n",
    "    return img_out,y_out"
   ]
  },
  {
   "cell_type": "code",
   "execution_count": null,
   "metadata": {
    "collapsed": true
   },
   "outputs": [],
   "source": [
    "\n",
    "X_train = obtain_Y(X_train)\n",
    "X_valid = obtain_Y(X_valid)\n",
    "X_test  = obtain_Y(X_test)\n"
   ]
  },
  {
   "cell_type": "code",
   "execution_count": 2,
   "metadata": {
    "collapsed": false,
    "deletable": true,
    "editable": true
   },
   "outputs": [
    {
     "name": "stdout",
     "output_type": "stream",
     "text": [
      "6.0\n"
     ]
    },
    {
     "data": {
      "image/png": "[encoded data removed]",
      "text/plain": [
       "<matplotlib.figure.Figure at 0x52bc390>"
      ]
     },
     "metadata": {},
     "output_type": "display_data"
    }
   ],
   "source": [
    "[pr,ypr] = ampliate_feed_data(X_train,y_train)"
   ]
  },
  {
   "cell_type": "code",
   "execution_count": null,
   "metadata": {
    "collapsed": true
   },
   "outputs": [],
   "source": [
    "X_train,y_train =  pr,ypr\n",
    "X_train =  np.expand_dims(X_train, axis=3)\n",
    "X_valid =  np.expand_dims(X_valid, axis=3)\n",
    "X_test  =  np.expand_dims(X_test, axis=3) "
   ]
  },
  {
   "cell_type": "code",
   "execution_count": null,
   "metadata": {
    "collapsed": true
   },
   "outputs": [],
   "source": [
    "np.save('X_train_after_processing.dat',X_train)\n",
    "np.save('Y_train_after_processing.dat',y_train)\n",
    "np.save('X_valid_after_processing.dat',X_valid)\n",
    "np.save('X_test_after_processing.dat', X_test)"
   ]
  },
  {
   "cell_type": "code",
   "execution_count": null,
   "metadata": {
    "collapsed": true
   },
   "outputs": [],
   "source": [
    "import numpy as np\n",
    "\n",
    "X_train = np.load('X_train_after_processing.dat.npy')\n",
    "y_train =  np.load('Y_train_after_processing.dat.npy')\n",
    "X_valid = np.load('X_valid_after_processing.dat.npy')\n",
    "X_test = np.load('X_test_after_processing.dat.npy')"
   ]
  },
  {
   "cell_type": "code",
   "execution_count": 5,
   "metadata": {
    "collapsed": false,
    "deletable": true,
    "editable": true
   },
   "outputs": [
    {
     "name": "stdout",
     "output_type": "stream",
     "text": [
      "Number of training examples = 139196\n",
      "Image data shape = (32, 32, 1)\n",
      "Number of classes = 43\n"
     ]
    }
   ],
   "source": [
    "### Replace each question mark with the appropriate value. \n",
    "### Use python, pandas or numpy methods rather than hard coding the results\n",
    "\n",
    "# TODO: Number of training examples\n",
    "n_train = X_train.shape[0]\n",
    "\n",
    "# TODO: What's the shape of an traffic sign image?\n",
    "image_shape = np.shape(X_train[0,])\n",
    "\n",
    "# TODO: How many unique classes/labels there are in the dataset.\n",
    "n_classes = np.size(np.unique(y_train))\n",
    "\n",
    "print(\"Number of training examples =\", n_train)\n",
    "print(\"Image data shape =\", image_shape)\n",
    "print(\"Number of classes =\", n_classes)"
   ]
  },
  {
   "cell_type": "code",
   "execution_count": 6,
   "metadata": {
    "collapsed": false,
    "deletable": true,
    "editable": true
   },
   "outputs": [
    {
     "data": {
      "text/plain": [
       "[]"
      ]
     },
     "execution_count": 6,
     "metadata": {},
     "output_type": "execute_result"
    },
    {
     "data": {
      "image/png": "[encoded data removed]",
      "text/plain": [
       "<matplotlib.figure.Figure at 0x4b35160>"
      ]
     },
     "metadata": {},
     "output_type": "display_data"
    }
   ],
   "source": [
    "# Plot a histogram of the count of the number of examples of each sign\n",
    "# in the test set\n",
    "import matplotlib.pyplot as plt\n",
    "%matplotlib inline\n",
    "\n",
    "plt.hist(y_train, bins=n_classes)\n",
    "plt.title('Number of examples of each sign in the training set')\n",
    "plt.xlabel('Sign')\n",
    "plt.ylabel('Count')\n",
    "plt.plot()"
   ]
  },
  {
   "cell_type": "raw",
   "metadata": {
    "collapsed": true,
    "deletable": true,
    "editable": true
   },
   "source": []
  }
 ],
 "metadata": {
  "kernelspec": {
   "display_name": "Python 3",
   "language": "python",
   "name": "python3"
  },
  "language_info": {
   "codemirror_mode": {
    "name": "ipython",
    "version": 3
   },
   "file_extension": ".py",
   "mimetype": "text/x-python",
   "name": "python",
   "nbconvert_exporter": "python",
   "pygments_lexer": "ipython3",
   "version": "3.5.2"
  },
  "widgets": {
   "state": {},
   "version": "1.1.2"
  }
 },
 "nbformat": 4,
 "nbformat_minor": 2
}
